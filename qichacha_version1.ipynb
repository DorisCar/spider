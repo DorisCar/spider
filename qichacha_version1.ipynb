{
 "cells": [
  {
   "cell_type": "code",
   "execution_count": 10,
   "metadata": {},
   "outputs": [],
   "source": [
    "from selenium import webdriver\n",
    "from selenium.common.exceptions import NoSuchElementException\n",
    "from selenium.webdriver.chrome.options import Options\n",
    "import time\n",
    "import xlwt\n",
    "import sys\n",
    "import pandas as pd\n",
    "import numpy as np"
   ]
  },
  {
   "cell_type": "code",
   "execution_count": 23,
   "metadata": {},
   "outputs": [
    {
     "data": {
      "text/plain": [
       "<module 'sys' (built-in)>"
      ]
     },
     "execution_count": 23,
     "metadata": {},
     "output_type": "execute_result"
    }
   ],
   "source": [
    "import importlib\n",
    "importlib.reload(sys)"
   ]
  },
  {
   "cell_type": "code",
   "execution_count": 84,
   "metadata": {},
   "outputs": [],
   "source": [
    "#伪装成浏览器，防止被识破\n",
    "chrome_options = Options()\n",
    "chrome_options.add_argument('--user-agent=\"Mozilla/5.0 (Windows NT 10.0; Win64; x64) AppleWebKit/537.36 (KHTML, like Gecko) Chrome/65.0.3325.146 Safari/537.36\"')\n",
    "driver = webdriver.Chrome(options=chrome_options)\n",
    "from selenium.webdriver.common.by import By\n",
    "#打开登录页面\n",
    "driver.get('https://www.qichacha.com/user_login')\n",
    "#单击用户名密码登录的标签\n",
    "tag = driver.find_element(by=By.XPATH, value='/html/body/div[1]/div[3]/div/div[2]/div[1]/div[2]/a')\n",
    "tag.click()\n",
    "#将用户名、密码注入\n",
    "driver.find_element(by=By.XPATH, value='/html/body/div[1]/div[3]/div/div[2]/div[3]/form/div[1]/input').send_keys('***')\n",
    "driver.find_element(by=By.XPATH, value='/html/body/div[1]/div[3]/div/div[2]/div[3]/form/div[2]/input').send_keys('***')\n",
    "time.sleep(3)#休眠，人工完成验证步骤，等待程序单击“登录”\n",
    "#单击登录按钮\n",
    "btn = driver.find_element(by=By.XPATH, value='/html/body/div[1]/div[3]/div/div[2]/div[3]/form/div[4]/button')\n",
    "btn.click()"
   ]
  },
  {
   "cell_type": "code",
   "execution_count": 85,
   "metadata": {},
   "outputs": [],
   "source": [
    "#读取公司名称列表\n",
    "inc_excel=pd.read_excel(r'C:\\Users\\admin\\Desktop\\csv_result\\list2.xlsx')\n",
    "inc_list=inc_excel['公司名称'].tolist()\n",
    "inc_len = len(inc_list)"
   ]
  },
  {
   "cell_type": "code",
   "execution_count": 86,
   "metadata": {},
   "outputs": [],
   "source": [
    "date_list=[]\n",
    "f_round_list=[]\n",
    "e_money_list=[]\n",
    "f_money_list=[]\n",
    "f_org_list=[]\n",
    "newslink_list=[]\n",
    "name_list=[]\n",
    "for i in range(inc_len):\n",
    "    txt = inc_list[i]\n",
    "    time.sleep(1)\n",
    "    \n",
    "    if (i==0):\n",
    "        #向搜索框注入文字\n",
    "        txt=txt.encode('utf-8').decode('utf-8')\n",
    "        driver.find_element(by=By.XPATH, value='/html/body/div/div[2]/section[1]/div/div/div/div[1]/div/div/input').send_keys(txt)\n",
    "        #单击搜索按钮\n",
    "        srh_btn = driver.find_element(by=By.XPATH, value='/html/body/div/div[2]/section[1]/div/div/div/div[1]/div/div/span/button')\n",
    "        srh_btn.click()\n",
    "    else:\n",
    "        #向搜索框注入下一个公司地址\n",
    "        txt=txt.encode('utf-8').decode('utf-8')\n",
    "        srh_input=driver.find_element(by=By.XPATH, value='//*[@id=\"searchKey\"]')\n",
    "        srh_input.clear()\n",
    "        driver.find_element(by=By.XPATH, value='//*[@id=\"searchKey\"]').send_keys(txt)\n",
    "        \n",
    "        #搜索按钮 \n",
    "        srh_btn = driver.find_element(by=By.XPATH, value='/html/body/div/div[1]/div/div/div/div/div/div/span/button')\n",
    "        srh_btn.click()\n",
    "    \n",
    "    #点击标题进入明细页，再点击“产品信息”页链接\n",
    "    try: \n",
    "        web1=driver.find_element(by=By.XPATH, value='//div[@class=\"search-cell\"]/table/tr[1]/td[3]/div/div[@class=\"app-copy-box copy-hover-item\"]/span[1]/a').get_attribute(\"href\")\n",
    "        driver.get(web1)\n",
    "        web2=driver.find_element(by=By.XPATH, value='//div[@class=\"oxin-access clearfix\"]/a[@rel=\"\"]').get_attribute(\"href\")\n",
    "        driver.get(web2)\n",
    "    except:\n",
    "        continue\n",
    "    \n",
    "    #确认是否有“融资历程”表格\n",
    "    try:\n",
    "        m_table=driver.find_element(by=By.XPATH, value='//section[@class=\"npanel npanel-default header-part clearfix\"]/section[2]/div[@class=\"app-ntable\"]/table')\n",
    "        rows=m_table.find_elements_by_tag_name('tr')\n",
    "        row_locator=\"//section[@class='npanel npanel-default header-part clearfix']/section[2]/div[@class='app-ntable']/table/tr\"\n",
    "    except:\n",
    "        name_list.append(txt)\n",
    "        date_list.append(\"-\")\n",
    "        f_round_list.append(\"-\")\n",
    "        e_money_list.append(\"-\")\n",
    "        f_money_list.append(\"-\")\n",
    "        f_org_list.append(\"-\")\n",
    "        newslink_list.append(\"-\")\n",
    "        continue\n",
    "    \n",
    "    for j in range(2,len(rows)+1):\n",
    "        date=driver.find_element(by=By.XPATH, value=f\"{row_locator}[{j}]/td[2]\").text\n",
    "        date_list.append(date)\n",
    "        f_round=driver.find_element(by=By.XPATH, value=f\"{row_locator}[{j}]/td[3]\").text\n",
    "        f_round_list.append(f_round)\n",
    "        e_money=driver.find_element(by=By.XPATH, value=f\"{row_locator}[{j}]/td[4]\").text\n",
    "        e_money_list.append(e_money)\n",
    "        f_money=driver.find_element(by=By.XPATH, value=f\"{row_locator}[{j}]/td[5]\").text\n",
    "        f_money_list.append(f_money)\n",
    "        f_org=driver.find_element(by=By.XPATH, value=f\"{row_locator}[{j}]/td[6]\").text.replace('\\n','；')\n",
    "        f_org_list.append(f_org)\n",
    "        try:\n",
    "            newslink=driver.find_element(by=By.XPATH, value=f\"{row_locator}[{j}]/td[7]/a\").get_attribute(\"href\")\n",
    "            newslink_list.append(newslink)\n",
    "        except:\n",
    "            newslink_list.append(\"-\")\n",
    "        name_list.append(txt)\n"
   ]
  },
  {
   "cell_type": "code",
   "execution_count": null,
   "metadata": {},
   "outputs": [],
   "source": [
    "driver.close()"
   ]
  },
  {
   "cell_type": "code",
   "execution_count": 89,
   "metadata": {},
   "outputs": [],
   "source": [
    "result={\"公司名称\":name_list,\"日期\":date_list,\"融资轮次\":f_round_list,\"估值金额\":e_money_list,\"融资金额\":f_money_list,\"投资机构\":f_org_list,\"新闻链接\":newslink_list}\n",
    "result_df=pd.DataFrame(result)"
   ]
  },
  {
   "cell_type": "code",
   "execution_count": 90,
   "metadata": {},
   "outputs": [],
   "source": [
    "result_df.to_csv(path_or_buf=r\"C:\\Users\\admin\\Desktop\\csv_result\\version2.csv\",header=True)"
   ]
  },
  {
   "cell_type": "code",
   "execution_count": 44,
   "metadata": {},
   "outputs": [],
   "source": [
    "inc_list=['腾讯科技（深圳）有限公司']\n",
    "inc_len = len(inc_list)"
   ]
  },
  {
   "cell_type": "code",
   "execution_count": 56,
   "metadata": {},
   "outputs": [
    {
     "name": "stdout",
     "output_type": "stream",
     "text": [
      "['缀初网络技术（上海）有限公司', '缀初网络技术（上海）有限公司', '缀初网络技术（上海）有限公司']\n",
      "['2021-12-02', '2021-05-27', '2018-05-08']\n",
      "['A轮', 'Pre-A轮', '天使轮']\n",
      "['未披露', '未披露', '未披露']\n",
      "['超亿元人民币', '约千万美元', '未披露']\n",
      "['领投机构: 创世伙伴；跟投机构: 张江科投 ,沸点资本 ,华业天成 ,磐霖资本 ,蓝驰创投', '沸点资本 ,华业天成 ,蓝驰创投 ,远望资本', '未披露']\n",
      "['https://news.qcc.com/postnews_6ffc9a254ab5aa8e818b0385629d213c.html?from=qcc', 'https://news.qcc.com/postnews_27d4f110455a201022d1c441cd23dddd.html?from=qcc', '-']\n"
     ]
    }
   ],
   "source": [
    "date_list=[]\n",
    "f_round_list=[]\n",
    "e_money_list=[]\n",
    "f_money_list=[]\n",
    "f_org_list=[]\n",
    "newslink_list=[]\n",
    "name_list=[]\n",
    "for i in range(inc_len):\n",
    "    txt = inc_list[i]\n",
    "    time.sleep(1)\n",
    "    \n",
    "\n",
    "    #向搜索框注入下一个公司地址\n",
    "    txt=txt.encode('utf-8').decode('utf-8')\n",
    "    srh_input=driver.find_element(by=By.XPATH, value='//*[@id=\"searchKey\"]')\n",
    "    srh_input.clear()\n",
    "    driver.find_element(by=By.XPATH, value='//*[@id=\"searchKey\"]').send_keys(txt)\n",
    "        \n",
    "    #搜索按钮 \n",
    "    srh_btn = driver.find_element(by=By.XPATH, value='/html/body/div/div[1]/div/div/div/div/div/div/span/button')\n",
    "    srh_btn.click()\n",
    "    \n",
    "    try: \n",
    "        web1=driver.find_element(by=By.XPATH, value='//div[@class=\"search-cell\"]/table/tr[1]/td[3]/div/div[@class=\"app-copy-box copy-hover-item\"]/span[1]/a').get_attribute(\"href\")\n",
    "        driver.get(web1)\n",
    "        web2=driver.find_element(by=By.XPATH, value='//div[@class=\"oxin-access clearfix\"]/a[@rel=\"\"]').get_attribute(\"href\")\n",
    "        driver.get(web2)\n",
    "    except:\n",
    "        continue\n",
    "    \n",
    "    try:\n",
    "        m_table=driver.find_element(by=By.XPATH, value='//section[@class=\"npanel npanel-default header-part clearfix\"]/section[2]/div[@class=\"app-ntable\"]/table')\n",
    "        rows=m_table.find_elements_by_tag_name('tr')\n",
    "        row_locator=\"//section[@class='npanel npanel-default header-part clearfix']/section[2]/div[@class='app-ntable']/table/tr\"\n",
    "    except:\n",
    "        continue\n",
    "    \n",
    "    for j in range(2,len(rows)+1):\n",
    "        date=driver.find_element(by=By.XPATH, value=f\"{row_locator}[{j}]/td[2]\").text\n",
    "        date_list.append(date)\n",
    "        f_round=driver.find_element(by=By.XPATH, value=f\"{row_locator}[{j}]/td[3]\").text\n",
    "        f_round_list.append(f_round)\n",
    "        e_money=driver.find_element(by=By.XPATH, value=f\"{row_locator}[{j}]/td[4]\").text\n",
    "        e_money_list.append(e_money)\n",
    "        f_money=driver.find_element(by=By.XPATH, value=f\"{row_locator}[{j}]/td[5]\").text\n",
    "        f_money_list.append(f_money)\n",
    "        f_org=driver.find_element(by=By.XPATH, value=f\"{row_locator}[{j}]/td[6]\").text.replace('\\n','；')\n",
    "        f_org_list.append(f_org)\n",
    "        try:\n",
    "            newslink=driver.find_element(by=By.XPATH, value=f\"{row_locator}[{j}]/td[7]/a\").get_attribute(\"href\")\n",
    "            newslink_list.append(newslink)\n",
    "        except:\n",
    "            newslink_list.append(\"-\")\n",
    "        name_list.append(txt)\n",
    "    \n",
    "print(name_list)\n",
    "print(date_list)\n",
    "print(f_round_list) \n",
    "print(e_money_list) \n",
    "print(f_money_list) \n",
    "print(f_org_list) \n",
    "print(newslink_list) \n"
   ]
  },
  {
   "cell_type": "code",
   "execution_count": null,
   "metadata": {},
   "outputs": [],
   "source": []
  }
 ],
 "metadata": {
  "kernelspec": {
   "display_name": "Python 3",
   "language": "python",
   "name": "python3"
  },
  "language_info": {
   "codemirror_mode": {
    "name": "ipython",
    "version": 3
   },
   "file_extension": ".py",
   "mimetype": "text/x-python",
   "name": "python",
   "nbconvert_exporter": "python",
   "pygments_lexer": "ipython3",
   "version": "3.7.3"
  }
 },
 "nbformat": 4,
 "nbformat_minor": 2
}
