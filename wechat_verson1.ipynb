{
 "cells": [
  {
   "cell_type": "code",
   "execution_count": 13,
   "metadata": {},
   "outputs": [],
   "source": [
    "import requests\n",
    "import time\n",
    "import datetime\n",
    "import pytz\n",
    "import pandas as pd"
   ]
  },
  {
   "cell_type": "code",
   "execution_count": 14,
   "metadata": {},
   "outputs": [],
   "source": [
    "#读取公众号名称与fakeid\n",
    "weichat_excel = pd.read_excel(r'C:\\Users\\admin\\Desktop\\csv_result\\key.xlsx')\n",
    "wei_key = weichat_excel['公众号'].tolist()\n",
    "wei_keyl = len(wei_key)\n",
    "wei_fad = weichat_excel['fakeid'].tolist()"
   ]
  },
  {
   "cell_type": "code",
   "execution_count": 15,
   "metadata": {},
   "outputs": [],
   "source": [
    "def page(num=1):\n",
    "    title=[]\n",
    "    link=[]\n",
    "    datetime=[]\n",
    "    for i in range(num):\n",
    "        params={\n",
    "            \"action\": \"list_ex\",\n",
    "            \"begin\": i*5,\n",
    "            \"count\": \"5\",\n",
    "            \"fakeid\": fad,\n",
    "            \"type\":\" 9\",\n",
    "            \"query\": \"\",\n",
    "            \"token\": \"974583763\", #更新点\n",
    "            \"lang\": \"zh_CN\",\n",
    "            \"f\": \"json\",\n",
    "            \"ajax\": \"1\"\n",
    "        }\n",
    "        r=requests.get(url,headers=headers,params=params)\n",
    "        dic=r.json()\n",
    "        for i in dic['app_msg_list']:\n",
    "            title.append(i['title'])\n",
    "            link.append(i['link'])\n",
    "            t1=time.localtime(i['update_time'])\n",
    "            t2=time.strftime(\"%Y-%m-%d\",t1)\n",
    "            datetime.append(t2)\n",
    "            \n",
    "    return title,link,datetime"
   ]
  },
  {
   "cell_type": "code",
   "execution_count": 16,
   "metadata": {},
   "outputs": [],
   "source": [
    "url=\"https://mp.weixin.qq.com/cgi-bin/appmsg\"\n",
    "headers={\n",
    "    \"User-Agent\": \"Mozilla/5.0 (Windows NT 10.0; Win64; x64) AppleWebKit/537.36 (KHTML, like Gecko) Chrome/102.0.0.0 Safari/537.36\",\n",
    "    \"Cookie\":\"ua_id=GQ6JPjmjw2gQMIYAAAAAAL9aMTD5Wy3cC-N46MZ8MJ0=; wxuin=51226968442880; mm_lang=zh_CN; RK=AElg5WghYZ; ptcz=0c906bb59c82ba41910e531cda692ad0a4639349e7bf0aac8b5e0c143307b263; pgv_pvid=5502593840; pac_uid=0_3103f00b46eea; iip=0; ptui_loginuin=674509174; uuid=c21adfc995aa968e53dc07207583ebf0; rand_info=CAESIOROvFfLba3IW5kJrJs+oLjxbsiIeQdjwcSmGA7bYKeA; slave_bizuin=3862770968; data_bizuin=3862770968; bizuin=3862770968; data_ticket=Rb0uW3sCJ+e9JvjQpOB3nbKvqUd9DH6fhU8BAg87rIux7VGwjJzS7eRuqn5zAVuK; slave_sid=dTY5TDZIX0pvaTR2ZUp5V3NBaDlZUTdVZWM4TDRRaExmOXJkVVJ4Y3lZejdGbWFhT1JreE1LRDNrMDUwQTFhQWRMYTJiS19xRFpiZDlhTmtYYTcyYkxzck5WRGhtZUdDSHo4cU9GOUpsa3R5dUIyaU01V29wQ25LSUY5MERUT2ZPWXM4SGg1TXpmR2dDN1J2; slave_user=gh_4da30f2bd464; xid=357fed1eab00547b24f73b1a6edfb3f3\"\n",
    "} #更新点，cookie非常关键\n",
    "txt1=[]\n",
    "title1=[]\n",
    "link1=[]\n",
    "datetime1=[]\n",
    "for i in range(wei_keyl):\n",
    "    txt=wei_key[i]\n",
    "    fad=wei_fad[i] #公众号唯一标识符，更新点\n",
    "    if __name__==\"__main__\":\n",
    "        (tle,lik,dt)=page(5) #page数值为更新点\n",
    "        for x,y,z in zip(tle,lik,dt):\n",
    "            txt1.append(txt)\n",
    "            title1.append(x)\n",
    "            link1.append(y)\n",
    "            datetime1.append(z)\n"
   ]
  },
  {
   "cell_type": "code",
   "execution_count": 17,
   "metadata": {},
   "outputs": [],
   "source": [
    "product=pd.DataFrame({'公众号':txt1,'标题':title1,'链接':link1,'创建时间':datetime1})"
   ]
  },
  {
   "cell_type": "code",
   "execution_count": 18,
   "metadata": {},
   "outputs": [],
   "source": [
    "product.to_csv(path_or_buf=r\"C:\\Users\\admin\\Desktop\\csv_result\\text.csv\",header=True,index=None)"
   ]
  },
  {
   "cell_type": "code",
   "execution_count": null,
   "metadata": {},
   "outputs": [],
   "source": []
  }
 ],
 "metadata": {
  "kernelspec": {
   "display_name": "Python 3",
   "language": "python",
   "name": "python3"
  },
  "language_info": {
   "codemirror_mode": {
    "name": "ipython",
    "version": 3
   },
   "file_extension": ".py",
   "mimetype": "text/x-python",
   "name": "python",
   "nbconvert_exporter": "python",
   "pygments_lexer": "ipython3",
   "version": "3.7.3"
  }
 },
 "nbformat": 4,
 "nbformat_minor": 2
}
