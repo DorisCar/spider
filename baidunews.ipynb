{
 "cells": [
  {
   "cell_type": "code",
   "execution_count": 69,
   "metadata": {},
   "outputs": [],
   "source": [
    "from selenium import webdriver\n",
    "from selenium.common.exceptions import NoSuchElementException\n",
    "from selenium.webdriver.chrome.options import Options\n",
    "import time\n",
    "import xlwt\n",
    "import sys\n",
    "import pandas as pd\n",
    "import numpy as np"
   ]
  },
  {
   "cell_type": "code",
   "execution_count": 70,
   "metadata": {},
   "outputs": [
    {
     "data": {
      "text/plain": [
       "<module 'sys' (built-in)>"
      ]
     },
     "execution_count": 70,
     "metadata": {},
     "output_type": "execute_result"
    }
   ],
   "source": [
    "import importlib\n",
    "importlib.reload(sys)"
   ]
  },
  {
   "cell_type": "code",
   "execution_count": 79,
   "metadata": {},
   "outputs": [],
   "source": [
    "#伪装成浏览器，防止被识破\n",
    "chrome_options = Options()\n",
    "chrome_options.add_argument('--user-agent=\"Mozilla/5.0 (Windows NT 10.0; Win64; x64) AppleWebKit/537.36 (KHTML, like Gecko) Chrome/101.0.4951.41 Safari/537.36\"')\n",
    "driver = webdriver.Chrome(options=chrome_options)\n",
    "from selenium.webdriver.common.by import By\n",
    "#打开页面\n",
    "driver.get('http://news.baidu.com/')"
   ]
  },
  {
   "cell_type": "code",
   "execution_count": 80,
   "metadata": {},
   "outputs": [],
   "source": [
    "inc_list=['阿里','腾讯']\n",
    "inc_len = len(inc_list)"
   ]
  },
  {
   "cell_type": "code",
   "execution_count": 81,
   "metadata": {},
   "outputs": [],
   "source": [
    "title_list=[]\n",
    "link_list=[]\n",
    "time_list=[]\n",
    "keyword_list=[]\n",
    "for i in range(inc_len):\n",
    "    txt = inc_list[i]\n",
    "    time.sleep(1)\n",
    "    \n",
    "    if (i==0):\n",
    "        txt=txt.encode('utf-8').decode('utf-8')\n",
    "        driver.find_element(by=By.XPATH, value='//div[@id=\"sugarea\"]/span[@class=\"s_ipt_wr\"]/input').send_keys(txt)\n",
    "        srh_btn = driver.find_element(by=By.XPATH, value='//div[@id=\"sugarea\"]/span[@class=\"s_btn_wr\"]/input')\n",
    "        srh_btn.click()\n",
    "    else:\n",
    "        txt=txt.encode('utf-8').decode('utf-8')\n",
    "        srh_input=driver.find_element(by=By.XPATH, value='//form[@id=\"form\"]/span[1]/input')\n",
    "        srh_input.clear()\n",
    "        driver.find_element(by=By.XPATH, value='//form[@id=\"form\"]/span[1]/input').send_keys(txt)\n",
    "        \n",
    "        srh_btn = driver.find_element(by=By.XPATH, value='//form[@id=\"form\"]/span[2]/input')\n",
    "        srh_btn.click()\n",
    "        \n",
    "    results=driver.find_element(by=By.XPATH, value='//div[@id=\"content_left\"]')\n",
    "    nums=results.find_elements(by=By.CLASS_NAME, value='result-op')\n",
    "    results_locator=\"//div[@id='content_left']/div[contains(@class,'result-op')]\"\n",
    "    \n",
    "    for j in range(1,len(nums)+1):\n",
    "        keyword_list.append(txt)\n",
    "        title=driver.find_element(by=By.XPATH, value=f\"{results_locator}[{j}]/div/h3/a\").get_attribute(\"aria-label\")\n",
    "        title_list.append(title)\n",
    "        link=driver.find_element(by=By.XPATH, value=f\"{results_locator}[{j}]/div/h3/a\").get_attribute(\"href\")\n",
    "        link_list.append(link)\n",
    "        creat_time=driver.find_element(by=By.XPATH, value=f\"{results_locator}[{j}]/div/div/div[contains(@class,'c-span-last')]/span[1]\").get_attribute(\"aria-label\")\n",
    "        time_list.append(creat_time)\n",
    "\n",
    "driver.close()"
   ]
  },
  {
   "cell_type": "code",
   "execution_count": 83,
   "metadata": {},
   "outputs": [],
   "source": [
    "result={\"关键词\":keyword_list,\"时间\":time_list,\"标题\":title_list,\"链接\":link_list}\n",
    "result_df=pd.DataFrame(result)\n",
    "result_df.to_csv(path_or_buf=r\"C:\\Users\\admin\\Desktop\\csv_result\\baidunews.csv\",header=True,index=None)"
   ]
  },
  {
   "cell_type": "code",
   "execution_count": null,
   "metadata": {},
   "outputs": [],
   "source": []
  }
 ],
 "metadata": {
  "kernelspec": {
   "display_name": "Python 3",
   "language": "python",
   "name": "python3"
  },
  "language_info": {
   "codemirror_mode": {
    "name": "ipython",
    "version": 3
   },
   "file_extension": ".py",
   "mimetype": "text/x-python",
   "name": "python",
   "nbconvert_exporter": "python",
   "pygments_lexer": "ipython3",
   "version": "3.7.3"
  }
 },
 "nbformat": 4,
 "nbformat_minor": 2
}
